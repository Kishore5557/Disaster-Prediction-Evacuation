{
 "cells": [
  {
   "cell_type": "code",
   "execution_count": 1,
   "metadata": {},
   "outputs": [],
   "source": [
    "import pandas as pd\n",
    "\n",
    "data = [\n",
    "    \"10:32:53.699 -> Temperature: 31.30°C\",\n",
    "    \"10:32:53.699 -> No Rain Detected\",\n",
    "    \"10:32:54.730 -> Distance: 357 cm\",\n",
    "    \"10:32:54.730 -> Humidity: 0.62\",\n",
    "    \"10:32:54.730 -> Temperature: 31.30°C\",\n",
    "    \"10:32:54.730 -> No Rain Detected\",\n",
    "    \"10:32:55.748 -> Distance: 357 cm\",\n",
    "    \"10:32:55.748 -> Humidity: 0.62\",\n",
    "    \"10:32:55.748 -> Temperature: 31.30°C\",\n",
    "    \"10:32:55.748 -> No Rain Detected\",\n",
    "    \"10:32:56.781 -> Distance: 357 cm\",\n",
    "    \"10:32:56.781 -> Humidity: 0.62\",\n",
    "    \"10:32:56.781 -> Temperature: 31.30°C\",\n",
    "    \"10:32:56.781 -> No Rain Detected\",\n",
    "    \"10:32:57.818 -> Distance: 357 cm\",\n",
    "    \"10:32:57.818 -> Humidity: 0.62\",\n",
    "    \"10:32:57.818 -> Temperature: 31.30°C\",\n",
    "    \"10:32:57.818 -> No Rain Detected\",\n",
    "    \"10:32:58.858 -> Distance: 357 cm\",\n",
    "    \"10:32:58.858 -> Humidity: 0.62\",\n",
    "    \"10:32:58.858 -> Temperature: 31.30°C\",\n",
    "    \"10:32:58.858 -> No Rain Detected\",\n",
    "    \"10:32:59.858 -> Distance: 357 cm\",\n",
    "    \"10:32:59.899 -> Humidity: 0.62\",\n",
    "    \"10:32:59.899 -> Temperature: 31.20°C\",\n",
    "    \"10:32:59.899 -> No Rain Detected\",\n",
    "    \"10:33:00.920 -> Distance: 357 cm\",\n",
    "    \"10:33:00.920 -> Humidity: 0.62\",\n",
    "    \"10:33:00.920 -> Temperature: 31.20°C\",\n",
    "    \"10:33:00.920 -> No Rain Detected\"\n",
    "]\n",
    "\n",
    "temperature = []\n",
    "humidity = []\n",
    "distance = []\n",
    "\n",
    "for line in data:\n",
    "    parts = line.split(\" -> \")\n",
    "    if \"Temperature\" in parts[1]:\n",
    "        temperature.append(float(parts[1].split(\": \")[1].replace(\"°C\", \"\").strip()))\n",
    "    elif \"Humidity\" in parts[1]:\n",
    "        humidity.append(float(parts[1].split(\": \")[1].replace(\"%\", \"\").strip()))\n",
    "    elif \"Distance\" in parts[1]:\n",
    "        distance.append(float(parts[1].split(\": \")[1].replace(\"cm\", \"\").strip()))\n",
    "\n",
    "# Ensure all arrays have the same length by truncating to the shortest length\n",
    "min_length = min(len(temperature), len(humidity), len(distance))\n",
    "temperature = temperature[:min_length]\n",
    "humidity = humidity[:min_length]\n",
    "distance = distance[:min_length]\n",
    "\n",
    "# Creating DataFrame\n",
    "df = pd.DataFrame({\n",
    "    \"Temperature (C)\": temperature,\n",
    "    \"Humidity\": humidity,\n",
    "    \"Distance (cm)\": distance,\n",
    "    \"labels\": [1] * min_length  # Assuming labels are all 1\n",
    "})\n",
    "\n",
    "# Saving DataFrame to CSV\n",
    "df.to_csv(\"weather_data.csv\", index=False)\n",
    "\n",
    "temperature = []\n",
    "humidity = []\n",
    "distance = []\n",
    "\n",
    "for line in data:\n",
    "    parts = line.split(\" -> \")\n",
    "    if \"Temperature\" in parts[1]:\n",
    "        temperature.append(float(parts[1].split(\": \")[1].replace(\"°C\", \"\").strip()))\n",
    "    elif \"Humidity\" in parts[1]:\n",
    "        humidity.append(float(parts[1].split(\": \")[1].replace(\"%\", \"\").strip()))\n",
    "    elif \"Distance\" in parts[1]:\n",
    "        distance.append(float(parts[1].split(\": \")[1].replace(\"cm\", \"\").strip()))\n",
    "\n",
    "# Ensure all arrays have the same length by truncating to the shortest length\n",
    "min_length = min(len(temperature), len(humidity), len(distance))\n",
    "temperature = temperature[:min_length]\n",
    "humidity = humidity[:min_length]\n",
    "distance = distance[:min_length]\n",
    "\n",
    "# Create DataFrame\n",
    "df = pd.DataFrame({\n",
    "    \"Temperature (C)\": temperature,\n",
    "    \"Humidity\": humidity,\n",
    "    \"Distance (cm)\": distance,\n",
    "    \"labels\": [1] * min_length  # Assuming labels are all 1\n",
    "})\n",
    "\n",
    "# Save DataFrame to CSV\n",
    "df.to_csv(\"D:/kaggle/Rain prediction/weather_data.csv\", index=False)"
   ]
  },
  {
   "cell_type": "code",
   "execution_count": 2,
   "metadata": {},
   "outputs": [
    {
     "data": {
      "text/html": [
       "<div>\n",
       "<style scoped>\n",
       "    .dataframe tbody tr th:only-of-type {\n",
       "        vertical-align: middle;\n",
       "    }\n",
       "\n",
       "    .dataframe tbody tr th {\n",
       "        vertical-align: top;\n",
       "    }\n",
       "\n",
       "    .dataframe thead th {\n",
       "        text-align: right;\n",
       "    }\n",
       "</style>\n",
       "<table border=\"1\" class=\"dataframe\">\n",
       "  <thead>\n",
       "    <tr style=\"text-align: right;\">\n",
       "      <th></th>\n",
       "      <th>Temperature (C)</th>\n",
       "      <th>Humidity</th>\n",
       "      <th>Distance (cm)</th>\n",
       "      <th>labels</th>\n",
       "    </tr>\n",
       "  </thead>\n",
       "  <tbody>\n",
       "    <tr>\n",
       "      <th>0</th>\n",
       "      <td>31.3</td>\n",
       "      <td>0.62</td>\n",
       "      <td>357.0</td>\n",
       "      <td>1</td>\n",
       "    </tr>\n",
       "    <tr>\n",
       "      <th>1</th>\n",
       "      <td>31.3</td>\n",
       "      <td>0.62</td>\n",
       "      <td>357.0</td>\n",
       "      <td>1</td>\n",
       "    </tr>\n",
       "    <tr>\n",
       "      <th>2</th>\n",
       "      <td>31.3</td>\n",
       "      <td>0.62</td>\n",
       "      <td>357.0</td>\n",
       "      <td>1</td>\n",
       "    </tr>\n",
       "    <tr>\n",
       "      <th>3</th>\n",
       "      <td>31.3</td>\n",
       "      <td>0.62</td>\n",
       "      <td>357.0</td>\n",
       "      <td>1</td>\n",
       "    </tr>\n",
       "    <tr>\n",
       "      <th>4</th>\n",
       "      <td>31.3</td>\n",
       "      <td>0.62</td>\n",
       "      <td>357.0</td>\n",
       "      <td>1</td>\n",
       "    </tr>\n",
       "    <tr>\n",
       "      <th>5</th>\n",
       "      <td>31.3</td>\n",
       "      <td>0.62</td>\n",
       "      <td>357.0</td>\n",
       "      <td>1</td>\n",
       "    </tr>\n",
       "    <tr>\n",
       "      <th>6</th>\n",
       "      <td>31.2</td>\n",
       "      <td>0.62</td>\n",
       "      <td>357.0</td>\n",
       "      <td>1</td>\n",
       "    </tr>\n",
       "  </tbody>\n",
       "</table>\n",
       "</div>"
      ],
      "text/plain": [
       "   Temperature (C)  Humidity  Distance (cm)  labels\n",
       "0             31.3      0.62          357.0       1\n",
       "1             31.3      0.62          357.0       1\n",
       "2             31.3      0.62          357.0       1\n",
       "3             31.3      0.62          357.0       1\n",
       "4             31.3      0.62          357.0       1\n",
       "5             31.3      0.62          357.0       1\n",
       "6             31.2      0.62          357.0       1"
      ]
     },
     "execution_count": 2,
     "metadata": {},
     "output_type": "execute_result"
    }
   ],
   "source": [
    "df"
   ]
  },
  {
   "cell_type": "code",
   "execution_count": 3,
   "metadata": {},
   "outputs": [],
   "source": [
    "from keras.models import load_model\n",
    "model=load_model('D:/kaggle/Rain prediction/1rain_fall.h5')"
   ]
  },
  {
   "cell_type": "code",
   "execution_count": 4,
   "metadata": {},
   "outputs": [
    {
     "name": "stdout",
     "output_type": "stream",
     "text": [
      "1/1 [==============================] - 0s 302ms/step\n"
     ]
    }
   ],
   "source": [
    "Distance=df['Distance (cm)']\n",
    "live_data=df.drop(['Distance (cm)','labels'],axis=1)\n",
    "predictions_live_data = model.predict(live_data)"
   ]
  },
  {
   "cell_type": "code",
   "execution_count": 5,
   "metadata": {},
   "outputs": [
    {
     "data": {
      "text/plain": [
       "0    357.0\n",
       "1    357.0\n",
       "2    357.0\n",
       "3    357.0\n",
       "4    357.0\n",
       "5    357.0\n",
       "6    357.0\n",
       "Name: Distance (cm), dtype: float64"
      ]
     },
     "execution_count": 5,
     "metadata": {},
     "output_type": "execute_result"
    }
   ],
   "source": [
    "Distance"
   ]
  },
  {
   "cell_type": "code",
   "execution_count": 6,
   "metadata": {},
   "outputs": [],
   "source": [
    "live_result=df['labels']"
   ]
  },
  {
   "cell_type": "code",
   "execution_count": 7,
   "metadata": {},
   "outputs": [
    {
     "name": "stdout",
     "output_type": "stream",
     "text": [
      "Rain is likely\n",
      "Rain is likely\n",
      "Rain is likely\n",
      "Rain is likely\n",
      "Rain is likely\n",
      "Rain is likely\n",
      "Rain is likely\n"
     ]
    }
   ],
   "source": [
    "for prediction in predictions_live_data:\n",
    "  if prediction > 0.5:\n",
    "    print(\"Rain is likely\")\n",
    "  else:\n",
    "    print(\"Snow is likely\")"
   ]
  },
  {
   "cell_type": "code",
   "execution_count": 8,
   "metadata": {},
   "outputs": [
    {
     "data": {
      "text/plain": [
       "array([[7]], dtype=int64)"
      ]
     },
     "execution_count": 8,
     "metadata": {},
     "output_type": "execute_result"
    }
   ],
   "source": [
    "import numpy as np\n",
    "live_predicted = np.where(predictions_live_data > 0.5, 1, 0)\n",
    "\n",
    "\n",
    "from sklearn.metrics import confusion_matrix\n",
    "cm1 = confusion_matrix(live_predicted, live_result)  # Use y_predicted instead of predict\n",
    "\n",
    "cm1 "
   ]
  },
  {
   "cell_type": "code",
   "execution_count": 10,
   "metadata": {},
   "outputs": [
    {
     "data": {
      "text/plain": [
       "<Axes: >"
      ]
     },
     "execution_count": 10,
     "metadata": {},
     "output_type": "execute_result"
    },
    {
     "data": {
      "image/png": "[encoded data removed]",
      "text/plain": [
       "<Figure size 640x480 with 2 Axes>"
      ]
     },
     "metadata": {},
     "output_type": "display_data"
    }
   ],
   "source": [
    "import seaborn as sns\n",
    "sns.heatmap(cm1, annot=True, fmt='d')"
   ]
  },
  {
   "cell_type": "code",
   "execution_count": 11,
   "metadata": {},
   "outputs": [
    {
     "name": "stdout",
     "output_type": "stream",
     "text": [
      "[True, True, True, True, True, True, True]\n"
     ]
    }
   ],
   "source": [
    "distance = pd.DataFrame(Distance)\n",
    "live_predicted = pd.DataFrame(live_predicted)\n",
    "concatenated_df = pd.concat([distance, live_predicted], axis=1)\n",
    "\n",
    "# Applying the condition\n",
    "condition = (concatenated_df['Distance (cm)'] <= 357) & (concatenated_df[0] == 1)\n",
    "\n",
    "# Converting boolean values to True or False in the condition list\n",
    "condition = condition.tolist()\n",
    "\n",
    "\n",
    "print(condition)"
   ]
  },
  {
   "cell_type": "code",
   "execution_count": 12,
   "metadata": {},
   "outputs": [],
   "source": [
    "# If the both conditions are true the notification file will run and send the warning alert\n",
    "import subprocess\n",
    "\n",
    "def run_B():\n",
    "    subprocess.run([\"python\", r\"D:\\notification\\notification.ipynb\"], check=True)\n",
    "\n",
    "\n",
    "if condition:\n",
    "    run_B()"
   ]
  }
 ],
 "metadata": {
  "kernelspec": {
   "display_name": "tensorflow",
   "language": "python",
   "name": "python3"
  },
  "language_info": {
   "codemirror_mode": {
    "name": "ipython",
    "version": 3
   },
   "file_extension": ".py",
   "mimetype": "text/x-python",
   "name": "python",
   "nbconvert_exporter": "python",
   "pygments_lexer": "ipython3",
   "version": "3.10.13"
  }
 },
 "nbformat": 4,
 "nbformat_minor": 2
}
